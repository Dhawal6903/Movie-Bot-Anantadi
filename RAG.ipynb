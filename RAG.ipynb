{
 "cells": [
  {
   "cell_type": "code",
   "execution_count": 1,
   "metadata": {},
   "outputs": [
    {
     "name": "stderr",
     "output_type": "stream",
     "text": [
      "e:\\Movie Search\\Movie-Bot-Anantadi\\app\\Lib\\site-packages\\pinecone\\data\\index.py:1: TqdmWarning: IProgress not found. Please update jupyter and ipywidgets. See https://ipywidgets.readthedocs.io/en/stable/user_install.html\n",
      "  from tqdm.autonotebook import tqdm\n"
     ]
    }
   ],
   "source": [
    "import os\n",
    "import csv\n",
    "import pandas as pd\n",
    "from pinecone import Pinecone, PodSpec\n",
    "from langchain_pinecone import PineconeVectorStore\n",
    "from langchain.indexes import SQLRecordManager, index\n",
    "from langchain_openai import OpenAIEmbeddings\n",
    "from langchain_core.documents import Document"
   ]
  },
  {
   "cell_type": "code",
   "execution_count": 2,
   "metadata": {},
   "outputs": [],
   "source": [
    "PINECONE_KEY =  \"b3d91009-fae8-4f09-b32d-7959b043996a\"\n",
    "PINECONE_INDEX_NAME =  'movie'\n",
    "OPENAI_KEY =  \"sk-proj-wjhlw45dvsRqQyuMMERWT3BlbkFJvS1rCNcHX0qScJcE7WSx\""
   ]
  },
  {
   "cell_type": "code",
   "execution_count": 11,
   "metadata": {},
   "outputs": [
    {
     "name": "stdout",
     "output_type": "stream",
     "text": [
      "{'dimension': 1536,\n",
      " 'index_fullness': 0.0,\n",
      " 'namespaces': {'': {'vector_count': 4549}},\n",
      " 'total_vector_count': 4549}\n",
      "Pinecone vector store created successfully.\n"
     ]
    }
   ],
   "source": [
    "\n",
    "\n",
    "# Initialize Pinecone with API key\n",
    "pc = Pinecone(api_key=PINECONE_KEY)\n",
    "\n",
    "# Create Pinecone index if not exists\n",
    "# pc.create_index(\n",
    "#     name=PINECONE_INDEX_NAME,\n",
    "#     dimension=1536,\n",
    "#     metric=\"cosine\",\n",
    "#     spec=PodSpec(\n",
    "#         environment=\"gcp-starter\"\n",
    "#     )\n",
    "# )\n",
    "\n",
    "# Target the existing index and check its status\n",
    "pc_index = pc.Index(PINECONE_INDEX_NAME)\n",
    "print(pc_index.describe_index_stats())\n",
    "\n",
    "# Initialize OpenAI embeddings with API key\n",
    "embeddings = OpenAIEmbeddings(model=\"text-embedding-ada-002\", api_key=OPENAI_KEY)\n",
    "\n",
    "# Read CSV file\n",
    "csv_file_path = \"newtmdb.csv\"\n",
    "df = pd.read_csv(csv_file_path)\n",
    "\n",
    "# Define the documents list\n",
    "docs = []\n",
    "for index, row in df.iterrows():\n",
    "    document = Document(\n",
    "        page_content=row[\"overview\"],  # Assuming \"overview\" column contains text content\n",
    "        metadata={\n",
    "            \"title\": row[\"title\"],  # Assuming \"title\" column contains movie title\n",
    "            \"genre\": row[\"genre_ids\"],  # Assuming \"genre_ids\" column contains genre IDs\n",
    "            \"vote_average\": row[\"vote_average\"],  # Assuming \"vote_average\" column contains average vote\n",
    "            \"release_date\": row[\"release_date\"],  # Assuming \"release_date\" column contains release date\n",
    "            # Add more metadata fields as needed\n",
    "        }\n",
    "    )\n",
    "    docs.append(document)\n",
    "\n",
    "# Create Pinecone vector store from documents\n",
    "vectorstore = PineconeVectorStore.from_documents(\n",
    "    docs, embeddings, index_name=PINECONE_INDEX_NAME\n",
    ")\n",
    "\n",
    "print(\"Pinecone vector store created successfully.\")"
   ]
  },
  {
   "cell_type": "code",
   "execution_count": 13,
   "metadata": {},
   "outputs": [],
   "source": [
    "import os\n",
    "import csv\n",
    "import pandas as pd\n",
    "from pinecone import Pinecone, PodSpec\n",
    "from langchain_pinecone import PineconeVectorStore\n",
    "from langchain.indexes import SQLRecordManager, index\n",
    "from langchain_openai import OpenAIEmbeddings\n",
    "\n",
    "# Load environment variables\n",
    "PINECONE_KEY = \"b3d91009-fae8-4f09-b32d-7959b043996a\"\n",
    "PINECONE_INDEX_NAME =  'movie'\n",
    "OPENAI_KEY =  \"sk-proj-wjhlw45dvsRqQyuMMERWT3BlbkFJvS1rCNcHX0qScJcE7WSx\"\n"
   ]
  },
  {
   "cell_type": "code",
   "execution_count": 14,
   "metadata": {},
   "outputs": [],
   "source": [
    "from langchain.chains.query_constructor.base import AttributeInfo\n",
    " \n",
    "\n",
    "metadata_field_info = [\n",
    "    AttributeInfo(\n",
    "        name=\"title\",\n",
    "        description=\"The title of the movie\",\n",
    "        type=\"string or list[string]\",\n",
    "    ),\n",
    "    AttributeInfo(\n",
    "        name=\"genre_ids\",\n",
    "        description=\"Genre ids of the movie\",\n",
    "        type=\"integer\",\n",
    "    ),\n",
    "    AttributeInfo(\n",
    "        name=\"vote_average\",\n",
    "        description=\"A 1-10 rating for the movie\",\n",
    "        type=\"float\",\n",
    "    ),\n",
    "    AttributeInfo(\n",
    "        name=\"release_date\", description=\"Release Date of the movie\", type=\"string\"\n",
    "    ),\n",
    "]\n",
    "document_content_description = \"Brief summary of a movie\"\n",
    "# llm = OpenAI(temperature=0)\n",
    "# retriever = SelfQueryRetriever.from_llm(\n",
    "#     llm, vectorstore, document_content_description, metadata_field_info \n",
    "# )"
   ]
  },
  {
   "cell_type": "code",
   "execution_count": 15,
   "metadata": {},
   "outputs": [],
   "source": [
    "from langchain_openai import (\n",
    "    ChatOpenAI, \n",
    "    OpenAIEmbeddings\n",
    ")\n",
    "from langchain.chains.query_constructor.base import (\n",
    "    StructuredQueryOutputParser,\n",
    "    get_query_constructor_prompt,\n",
    "    AttributeInfo\n",
    ")"
   ]
  },
  {
   "cell_type": "code",
   "execution_count": 18,
   "metadata": {},
   "outputs": [
    {
     "name": "stdout",
     "output_type": "stream",
     "text": [
      "Note: you may need to restart the kernel to use updated packages.\n"
     ]
    }
   ],
   "source": [
    "%pip install --upgrade --quiet  lark"
   ]
  },
  {
   "cell_type": "code",
   "execution_count": 19,
   "metadata": {},
   "outputs": [
    {
     "name": "stdout",
     "output_type": "stream",
     "text": [
      "Note: you may need to restart the kernel to use updated packages.\n"
     ]
    },
    {
     "name": "stderr",
     "output_type": "stream",
     "text": [
      "ERROR: pip's dependency resolver does not currently take into account all the packages that are installed. This behaviour is the source of the following dependency conflicts.\n",
      "langchain-pinecone 0.1.1 requires pinecone-client<4.0.0,>=3.2.2, but you have pinecone-client 4.1.0 which is incompatible.\n"
     ]
    }
   ],
   "source": [
    "%pip install --upgrade --quiet  pinecone-client"
   ]
  },
  {
   "cell_type": "code",
   "execution_count": 16,
   "metadata": {},
   "outputs": [],
   "source": [
    "import lark\n",
    "document_content_description = \"Brief overview of a movie, along with keywords\"\n",
    "\n",
    "# Define allowed comparators list\n",
    "allowed_comparators = [\n",
    "    \"$eq\",  # Equal to (number, string, boolean)\n",
    "    \"$ne\",  # Not equal to (number, string, boolean)\n",
    "    \"$gt\",  # Greater than (number)\n",
    "    \"$gte\",  # Greater than or equal to (number)\n",
    "    \"$lt\",  # Less than (number)\n",
    "    \"$lte\",  # Less than or equal to (number)\n",
    "    \"$in\",  # In array (string or number)\n",
    "    \"$nin\",  # Not in array (string or number)\n",
    "]\n",
    "\n",
    "examples = [\n",
    "    (\n",
    "        \"I'm looking for a sci-fi comedy released after 2021.\",\n",
    "        {\n",
    "            \"query\": \"sci-fi comedy\",\n",
    "            \"filter\": \"and(eq('Genre', 'Science'), eq('Genre', 'Comedy'), gt('Release Year', 2021))\",\n",
    "        },\n",
    "    ),\n",
    "    (\n",
    "        \"Show me critically acclaimed dramas without Tom Hanks.\",\n",
    "        {\n",
    "            \"query\": \"critically acclaimed drama\",\n",
    "            \"filter\": \"and(eq('Genre', 'Drama'), nin('Actors', ['Tom Hanks']))\",\n",
    "        },\n",
    "    ),\n",
    "    (\n",
    "        \"Recommend some films by Yorgos Lanthimos.\",\n",
    "        {\n",
    "            \"query\": \"Yorgos Lanthimos\",\n",
    "            \"filter\": 'in(\"Directors\", [\"Yorgos Lanthimos]\")',\n",
    "        },\n",
    "    ),\n",
    "    (\n",
    "        \"Films similar to Yorgos Lanthmios movies.\",\n",
    "        {\n",
    "            \"query\": \"Dark comedy, absurd, Greek Weird Wave\",\n",
    "            \"filter\": 'NO_FILTER',\n",
    "        },\n",
    "    ),\n",
    "    (\n",
    "        \"Find me thrillers with a strong female lead released between 2015 and 2020.\",\n",
    "        {\n",
    "            \"query\": \"thriller strong female lead\",\n",
    "            \"filter\": \"and(eq('Genre', 'Thriller'), gt('Release Year', 2015), lt('Release Year', 2021))\",\n",
    "        },\n",
    "    ),\n",
    "    (\n",
    "        \"Find me highly rated drama movies in English that are less than 2 hours long\",\n",
    "        {\n",
    "            \"query\": \"Highly rated drama English under 2 hours\",\n",
    "            \"filter\": 'and(eq(\"Genre\", \"Drama\"), eq(\"Language\", \"English\"), lt(\"Runtime (minutes)\", 120))',\n",
    "        },\n",
    "    ),\n",
    "]\n",
    "\n",
    "constructor_prompt = get_query_constructor_prompt(\n",
    "    document_content_description,\n",
    "    metadata_field_info,\n",
    "    allowed_comparators=allowed_comparators,\n",
    "    examples=examples,\n",
    ")\n",
    "openai_key = \"sk-proj-wjhlw45dvsRqQyuMMERWT3BlbkFJvS1rCNcHX0qScJcE7WSx\"\n",
    "query_model = ChatOpenAI(\n",
    "    model='gpt-3.5-turbo-0125',\n",
    "    temperature=0,\n",
    "    streaming=True,api_key=openai_key\n",
    ")\n",
    "\n",
    "output_parser = StructuredQueryOutputParser.from_components()\n",
    "query_constructor = constructor_prompt | query_model | output_parser"
   ]
  },
  {
   "cell_type": "code",
   "execution_count": 22,
   "metadata": {},
   "outputs": [
    {
     "data": {
      "text/plain": [
       "StructuredQuery(query='Godzilla', filter=None, limit=None)"
      ]
     },
     "execution_count": 22,
     "metadata": {},
     "output_type": "execute_result"
    }
   ],
   "source": [
    "question = \"Godzilla\"\n",
    "query_constructor.invoke(\n",
    "    {\n",
    "        \"query\": question\n",
    "    }\n",
    ")"
   ]
  },
  {
   "cell_type": "code",
   "execution_count": 23,
   "metadata": {},
   "outputs": [
    {
     "data": {
      "text/plain": [
       "[Document(page_content='Following their explosive showdown, Godzilla and Kong must reunite against a colossal undiscovered threat hidden within our world, challenging their very existence – and our own.', metadata={'genre': '[878, 28, 12]', 'release_date': '2024-03-27', 'title': 'Godzilla x Kong: The New Empire', 'vote_average': 7.256}),\n",
       " Document(page_content='Following their explosive showdown, Godzilla and Kong must reunite against a colossal undiscovered threat hidden within our world, challenging their very existence – and our own.', metadata={'genre': '[878, 28, 12]', 'release_date': '2024-03-27', 'title': 'Godzilla x Kong: The New Empire', 'vote_average': 7.256}),\n",
       " Document(page_content='Following their explosive showdown, Godzilla and Kong must reunite against a colossal undiscovered threat hidden within our world, challenging their very existence – and our own.', metadata={'genre': '[878, 28, 12]', 'release_date': '2024-03-27', 'title': 'Godzilla x Kong: The New Empire', 'vote_average': 7.256}),\n",
       " Document(page_content='Following their explosive showdown, Godzilla and Kong must reunite against a colossal undiscovered threat hidden within our world, challenging their very existence – and our own.', metadata={'genre': '[878, 28, 12]', 'release_date': '2024-03-27', 'title': 'Godzilla x Kong: The New Empire', 'vote_average': 7.259}),\n",
       " Document(page_content='Following their explosive showdown, Godzilla and Kong must reunite against a colossal undiscovered threat hidden within our world, challenging their very existence – and our own.', metadata={'genre': '[878, 28, 12]', 'release_date': '2024-03-27', 'title': 'Godzilla x Kong: The New Empire', 'vote_average': 7.259}),\n",
       " Document(page_content='Following their explosive showdown, Godzilla and Kong must reunite against a colossal undiscovered threat hidden within our world, challenging their very existence – and our own.', metadata={'genre': '[878, 28, 12]', 'release_date': '2024-03-27', 'title': 'Godzilla x Kong: The New Empire', 'vote_average': 7.256}),\n",
       " Document(page_content='Following their explosive showdown, Godzilla and Kong must reunite against a colossal undiscovered threat hidden within our world, challenging their very existence – and our own.', metadata={'genre': '[878, 28, 12]', 'release_date': '2024-03-27', 'title': 'Godzilla x Kong: The New Empire', 'vote_average': 7.256}),\n",
       " Document(page_content='Following their explosive showdown, Godzilla and Kong must reunite against a colossal undiscovered threat hidden within our world, challenging their very existence – and our own.', metadata={'genre': '[878, 28, 12]', 'release_date': '2024-03-27', 'title': 'Godzilla x Kong: The New Empire', 'vote_average': 7.259}),\n",
       " Document(page_content='Following their explosive showdown, Godzilla and Kong must reunite against a colossal undiscovered threat hidden within our world, challenging their very existence – and our own.', metadata={'genre': '[878, 28, 12]', 'release_date': '2024-03-27', 'title': 'Godzilla x Kong: The New Empire', 'vote_average': 7.259}),\n",
       " Document(page_content='Following their explosive showdown, Godzilla and Kong must reunite against a colossal undiscovered threat hidden within our world, challenging their very existence – and our own.', metadata={'genre': '[878, 28, 12]', 'release_date': '2024-03-27', 'title': 'Godzilla x Kong: The New Empire', 'vote_average': 7.259})]"
      ]
     },
     "execution_count": 23,
     "metadata": {},
     "output_type": "execute_result"
    }
   ],
   "source": [
    "from langchain.llms import OpenAI\n",
    "from langchain.retrievers.self_query.base import SelfQueryRetriever\n",
    "from langchain.retrievers.self_query.pinecone  import PineconeTranslator\n",
    "retriever = SelfQueryRetriever(\n",
    "    query_constructor=query_constructor,\n",
    "    vectorstore=vectorstore,\n",
    "    structured_query_translator=PineconeTranslator(),\n",
    "    search_kwargs={'k': 10}\n",
    ")\n",
    "\n",
    "retriever.invoke(question)"
   ]
  },
  {
   "cell_type": "code",
   "execution_count": 29,
   "metadata": {},
   "outputs": [],
   "source": [
    "from langchain_core.prompts import ChatPromptTemplate\n",
    "from langchain_core.output_parsers import StrOutputParser"
   ]
  },
  {
   "cell_type": "code",
   "execution_count": 28,
   "metadata": {},
   "outputs": [],
   "source": [
    "from langchain_core.runnables import RunnablePassthrough\n",
    "from langchain_core.runnables import RunnableParallel\n",
    "from langchain_openai import ChatOpenAI"
   ]
  },
  {
   "cell_type": "code",
   "execution_count": 35,
   "metadata": {},
   "outputs": [
    {
     "name": "stdout",
     "output_type": "stream",
     "text": [
      "\n",
      "\n",
      "question: Godzilla\n",
      "\n",
      "context: [Document(page_content='Following their explosive showdown, Godzilla and Kong must reunite against a colossal undiscovered threat hidden within our world, challenging their very existence – and our own.', metadata={'genre': '[878, 28, 12]', 'release_date': '2024-03-27', 'title': 'Godzilla x Kong: The New Empire', 'vote_average': 7.256}), Document(page_content='Following their explosive showdown, Godzilla and Kong must reunite against a colossal undiscovered threat hidden within our world, challenging their very existence – and our own.', metadata={'genre': '[878, 28, 12]', 'release_date': '2024-03-27', 'title': 'Godzilla x Kong: The New Empire', 'vote_average': 7.256}), Document(page_content='Following their explosive showdown, Godzilla and Kong must reunite against a colossal undiscovered threat hidden within our world, challenging their very existence – and our own.', metadata={'genre': '[878, 28, 12]', 'release_date': '2024-03-27', 'title': 'Godzilla x Kong: The New Empire', 'vote_average': 7.256}), Document(page_content='Following their explosive showdown, Godzilla and Kong must reunite against a colossal undiscovered threat hidden within our world, challenging their very existence – and our own.', metadata={'genre': '[878, 28, 12]', 'release_date': '2024-03-27', 'title': 'Godzilla x Kong: The New Empire', 'vote_average': 7.259}), Document(page_content='Following their explosive showdown, Godzilla and Kong must reunite against a colossal undiscovered threat hidden within our world, challenging their very existence – and our own.', metadata={'genre': '[878, 28, 12]', 'release_date': '2024-03-27', 'title': 'Godzilla x Kong: The New Empire', 'vote_average': 7.256}), Document(page_content='Following their explosive showdown, Godzilla and Kong must reunite against a colossal undiscovered threat hidden within our world, challenging their very existence – and our own.', metadata={'genre': '[878, 28, 12]', 'release_date': '2024-03-27', 'title': 'Godzilla x Kong: The New Empire', 'vote_average': 7.259}), Document(page_content='Following their explosive showdown, Godzilla and Kong must reunite against a colossal undiscovered threat hidden within our world, challenging their very existence – and our own.', metadata={'genre': '[878, 28, 12]', 'release_date': '2024-03-27', 'title': 'Godzilla x Kong: The New Empire', 'vote_average': 7.256}), Document(page_content='Following their explosive showdown, Godzilla and Kong must reunite against a colossal undiscovered threat hidden within our world, challenging their very existence – and our own.', metadata={'genre': '[878, 28, 12]', 'release_date': '2024-03-27', 'title': 'Godzilla x Kong: The New Empire', 'vote_average': 7.256}), Document(page_content='Following their explosive showdown, Godzilla and Kong must reunite against a colossal undiscovered threat hidden within our world, challenging their very existence – and our own.', metadata={'genre': '[878, 28, 12]', 'release_date': '2024-03-27', 'title': 'Godzilla x Kong: The New Empire', 'vote_average': 7.259}), Document(page_content='Following their explosive showdown, Godzilla and Kong must reunite against a colossal undiscovered threat hidden within our world, challenging their very existence – and our own.', metadata={'genre': '[878, 28, 12]', 'release_date': '2024-03-27', 'title': 'Godzilla x Kong: The New Empire', 'vote_average': 7.259})]\n",
      "\n",
      "answer: I recommend checking out:\n",
      "\n",
      "- [Godzilla x Kong: The New Empire](https://www.example.com):\n",
      "    - Runtime: Not available\n",
      "    - Release Year: 2024\n",
      "    - \"Since you're interested in Godzilla, you might enjoy watching Godzilla x Kong: The New Empire, where Godzilla and Kong reunite to face a new threat. It continues the epic storyline from their previous showdown.\""
     ]
    },
    {
     "data": {
      "text/plain": [
       "{'question': 'Godzilla',\n",
       " 'context': [Document(page_content='Following their explosive showdown, Godzilla and Kong must reunite against a colossal undiscovered threat hidden within our world, challenging their very existence – and our own.', metadata={'genre': '[878, 28, 12]', 'release_date': '2024-03-27', 'title': 'Godzilla x Kong: The New Empire', 'vote_average': 7.256}),\n",
       "  Document(page_content='Following their explosive showdown, Godzilla and Kong must reunite against a colossal undiscovered threat hidden within our world, challenging their very existence – and our own.', metadata={'genre': '[878, 28, 12]', 'release_date': '2024-03-27', 'title': 'Godzilla x Kong: The New Empire', 'vote_average': 7.256}),\n",
       "  Document(page_content='Following their explosive showdown, Godzilla and Kong must reunite against a colossal undiscovered threat hidden within our world, challenging their very existence – and our own.', metadata={'genre': '[878, 28, 12]', 'release_date': '2024-03-27', 'title': 'Godzilla x Kong: The New Empire', 'vote_average': 7.256}),\n",
       "  Document(page_content='Following their explosive showdown, Godzilla and Kong must reunite against a colossal undiscovered threat hidden within our world, challenging their very existence – and our own.', metadata={'genre': '[878, 28, 12]', 'release_date': '2024-03-27', 'title': 'Godzilla x Kong: The New Empire', 'vote_average': 7.259}),\n",
       "  Document(page_content='Following their explosive showdown, Godzilla and Kong must reunite against a colossal undiscovered threat hidden within our world, challenging their very existence – and our own.', metadata={'genre': '[878, 28, 12]', 'release_date': '2024-03-27', 'title': 'Godzilla x Kong: The New Empire', 'vote_average': 7.256}),\n",
       "  Document(page_content='Following their explosive showdown, Godzilla and Kong must reunite against a colossal undiscovered threat hidden within our world, challenging their very existence – and our own.', metadata={'genre': '[878, 28, 12]', 'release_date': '2024-03-27', 'title': 'Godzilla x Kong: The New Empire', 'vote_average': 7.259}),\n",
       "  Document(page_content='Following their explosive showdown, Godzilla and Kong must reunite against a colossal undiscovered threat hidden within our world, challenging their very existence – and our own.', metadata={'genre': '[878, 28, 12]', 'release_date': '2024-03-27', 'title': 'Godzilla x Kong: The New Empire', 'vote_average': 7.256}),\n",
       "  Document(page_content='Following their explosive showdown, Godzilla and Kong must reunite against a colossal undiscovered threat hidden within our world, challenging their very existence – and our own.', metadata={'genre': '[878, 28, 12]', 'release_date': '2024-03-27', 'title': 'Godzilla x Kong: The New Empire', 'vote_average': 7.256}),\n",
       "  Document(page_content='Following their explosive showdown, Godzilla and Kong must reunite against a colossal undiscovered threat hidden within our world, challenging their very existence – and our own.', metadata={'genre': '[878, 28, 12]', 'release_date': '2024-03-27', 'title': 'Godzilla x Kong: The New Empire', 'vote_average': 7.259}),\n",
       "  Document(page_content='Following their explosive showdown, Godzilla and Kong must reunite against a colossal undiscovered threat hidden within our world, challenging their very existence – and our own.', metadata={'genre': '[878, 28, 12]', 'release_date': '2024-03-27', 'title': 'Godzilla x Kong: The New Empire', 'vote_average': 7.259})],\n",
       " 'answer': 'I recommend checking out:\\n\\n- [Godzilla x Kong: The New Empire](https://www.example.com):\\n    - Runtime: Not available\\n    - Release Year: 2024\\n    - \"Since you\\'re interested in Godzilla, you might enjoy watching Godzilla x Kong: The New Empire, where Godzilla and Kong reunite to face a new threat. It continues the epic storyline from their previous showdown.\"'}"
      ]
     },
     "execution_count": 35,
     "metadata": {},
     "output_type": "execute_result"
    }
   ],
   "source": [
    "\n",
    "def format_docs(docs):\n",
    "    return \"\\n\\n\".join(f\"{doc.page_content}\\n\\nMetadata: {doc.metadata}\" for doc in docs)\n",
    "\n",
    "chat_model = ChatOpenAI(\n",
    "    model='gpt-3.5-turbo-0125',\n",
    "    # model='gpt-4-0125-preview',\n",
    "    temperature=0,\n",
    "    streaming=True,\n",
    ")\n",
    "\n",
    "prompt = ChatPromptTemplate.from_messages(\n",
    "    [\n",
    "        (\n",
    "            'system',\n",
    "            \"\"\"\n",
    "            Your goal is to recommend films to users based on their \n",
    "            query and the retrieved context. If a retrieved film doesn't seem \n",
    "            relevant, omit it from your response. Never refer to films that\n",
    "            are not in your context. If you cannot recommend any \n",
    "            films, suggest better queries to the user. You cannot \n",
    "            recommend more than five films. Your recommendation should \n",
    "            be relevant, original, and at least two to three sentences \n",
    "            long.\n",
    "            \n",
    "            YOU CANNOT RECOMMEND A FILM IF IT DOES NOT APPEAR IN YOUR \n",
    "            CONTEXT.\n",
    "\n",
    "            # TEMPLATE FOR OUTPUT\n",
    "            - [Title of Film](source link):\n",
    "                - Runtime:\n",
    "                - Release Year:\n",
    "                - (Your reasoning for recommending this film)\n",
    "            \n",
    "            Question: {question} \n",
    "            Context: {context} \n",
    "            \"\"\"\n",
    "        ),\n",
    "    ]\n",
    ")\n",
    "\n",
    "# Create a chatbot Question & Answer chain from the retriever\n",
    "rag_chain_from_docs = (\n",
    "    RunnablePassthrough.assign(context=(lambda x: format_docs(x[\"context\"])))\n",
    "    | prompt\n",
    "    | chat_model\n",
    "    | StrOutputParser()\n",
    ")\n",
    "\n",
    "rag_chain_with_source = RunnableParallel(\n",
    "    {\"context\": retriever, \"question\": RunnablePassthrough()}\n",
    ").assign(answer=rag_chain_from_docs)\n",
    "\n",
    "\n",
    "query_constructor.invoke(\n",
    "    {\n",
    "        \"query\": question\n",
    "    }\n",
    ")\n",
    "# Only prints final answer\n",
    "# for chunk in rag_chain_with_source.stream(question):\n",
    "#     for key in chunk:\n",
    "#         if key == 'answer':\n",
    "#             print(chunk[key], end=\"\", flush=True)\n",
    "\n",
    "# Prints everything\n",
    "output = {}\n",
    "curr_key = None\n",
    "for chunk in rag_chain_with_source.stream(question):\n",
    "    for key in chunk:\n",
    "        if key not in output:\n",
    "            output[key] = chunk[key]\n",
    "        else:\n",
    "            output[key] += chunk[key]\n",
    "        if key != curr_key:\n",
    "            print(f\"\\n\\n{key}: {chunk[key]}\", end=\"\", flush=True)\n",
    "        else:\n",
    "            print(chunk[key], end=\"\", flush=True)\n",
    "        curr_key = key\n",
    "output"
   ]
  },
  {
   "cell_type": "code",
   "execution_count": 34,
   "metadata": {},
   "outputs": [],
   "source": [
    "from dotenv import load_dotenv\n",
    "import os\n",
    "\n",
    "# Load environment variables from .env file\n",
    "load_dotenv()\n",
    "\n",
    "# Access the API key\n",
    "openai_api_key = os.getenv(\"OPENAI_API_KEY\")"
   ]
  },
  {
   "cell_type": "code",
   "execution_count": 32,
   "metadata": {},
   "outputs": [
    {
     "name": "stdout",
     "output_type": "stream",
     "text": [
      "Requirement already satisfied: python-dotenv in e:\\movie search\\movie-bot-anantadi\\app\\lib\\site-packages (1.0.1)\n",
      "Note: you may need to restart the kernel to use updated packages.\n"
     ]
    }
   ],
   "source": [
    "pip install python-dotenv"
   ]
  },
  {
   "cell_type": "code",
   "execution_count": null,
   "metadata": {},
   "outputs": [],
   "source": []
  }
 ],
 "metadata": {
  "kernelspec": {
   "display_name": "app",
   "language": "python",
   "name": "python3"
  },
  "language_info": {
   "codemirror_mode": {
    "name": "ipython",
    "version": 3
   },
   "file_extension": ".py",
   "mimetype": "text/x-python",
   "name": "python",
   "nbconvert_exporter": "python",
   "pygments_lexer": "ipython3",
   "version": "3.12.2"
  }
 },
 "nbformat": 4,
 "nbformat_minor": 2
}
